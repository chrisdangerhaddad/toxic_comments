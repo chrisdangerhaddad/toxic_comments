{
 "cells": [
  {
   "cell_type": "code",
   "execution_count": 15,
   "metadata": {},
   "outputs": [],
   "source": [
    "from IPython.display import HTML, display"
   ]
  },
  {
   "cell_type": "markdown",
   "metadata": {},
   "source": [
    "# Toxic Comments\n",
    "\n",
    "- Chris Haddad, Sanjay Roberts, and Jeff Coady"
   ]
  },
  {
   "cell_type": "markdown",
   "metadata": {},
   "source": [
    "## Dataset\n",
    "\n",
    "- **Kaggle Competition**: Jigsaw Unintended Bias in Toxicity Classification \n",
    "\n",
    "\n",
    "- ~$2$ million public comments from various platforms\n",
    "    - train.csv - 812 mb\n",
    "    - test.csv - 30 mb\n",
    "    \n",
    "    \n",
    "- `comment_text` and `target` toxicity columns\n",
    "\n",
    "    - `target` ranges from $0$ to $1$, if $>= 0.5$, classify as **'toxic'**"
   ]
  },
  {
   "cell_type": "markdown",
   "metadata": {},
   "source": [
    "## Motivation\n",
    "\n",
    "- Build model that recognizes toxicity in comments and minimizes unintended bias with respect to mentions of identities.\n",
    "- Experiment with different `sklearn` classifiers\n",
    "- Work with an imbalanced dataset\n",
    "    - ~10% of comments are classified as toxic "
   ]
  },
  {
   "cell_type": "markdown",
   "metadata": {},
   "source": [
    "# Exploratory Data Analysis"
   ]
  },
  {
   "cell_type": "markdown",
   "metadata": {},
   "source": [
    "### Toxicity distribution\n",
    "<table><tr><td><img src='dist.jpg'></td><td><img src='class.jpg' style='width: 670px;'></td></tr></table>\""
   ]
  },
  {
   "cell_type": "markdown",
   "metadata": {},
   "source": [
    "## Word clouds \n",
    "<table><tr><td><img src='nontoxic.jpg'></td><td><img src='toxic.jpg'></td></tr></table>\n",
    "\n",
    "<img src=\"most_toxic.jpg\" alt=\"Drawing\" style=\"width: 600px;\"/>\n",
    "\n"
   ]
  },
  {
   "cell_type": "markdown",
   "metadata": {},
   "source": [
    "## Topic Modeling\n",
    "\n",
    "![title](ldavis.jpg)"
   ]
  },
  {
   "cell_type": "markdown",
   "metadata": {},
   "source": [
    "# Modeling"
   ]
  },
  {
   "cell_type": "markdown",
   "metadata": {},
   "source": [
    "### AWS\n",
    "- EC2 instance with multiple user ssh and Jupyter Notebooks port-forwarding \n",
    "    - Instance type: `r4.16xlarge` - 64 CPU, **488 RAM**\n",
    "    \n",
    "    \n",
    "- Still ran into memory issues!\n",
    "    - To load and process data before modeling: 150G minimum\n",
    "    - Running `clf.fit(X, y)` killed the kernel every time\n",
    "        - Had to `partial_fit` or `batch` data to the classifiers in chunks of 100,000 comments"
   ]
  },
  {
   "cell_type": "markdown",
   "metadata": {},
   "source": [
    "### HTOP\n",
    "\n",
    "<img src=\"htop4.jpg\" alt=\"Drawing\" style=\"width: 800px;\"/>"
   ]
  },
  {
   "cell_type": "markdown",
   "metadata": {},
   "source": [
    "### Comment Cleaning - NLTK\n",
    "- Lower case words\n",
    "- Remove stop words\n",
    "- Remove punctuation\n",
    "- Tokenize and Lemmatize comments\n",
    "- Word frequency count, keep words greater than 10 occurences\n",
    "    - `dict` of 60,000 words\n",
    "- Create matrix of word frequency and outcome `(0: non-toxic, 1: toxic)` per comment    "
   ]
  },
  {
   "cell_type": "markdown",
   "metadata": {},
   "source": [
    "### Stochastic Gradient Descent Classifier\n",
    "\n",
    "- Treat dataset as balanced:\n",
    "    - Train time: 14 min\n",
    "    - Accuracy: 93.8%\n",
    "    - Precision: 0.814\n",
    "    - Recall:0.2881\n",
    "    - F-1 Score:0.42557\n",
    "\n",
    "```\n",
    "| Conf Mat |   | prediction |      |\n",
    "|----------|---|------------|------|\n",
    "|          |   | 0          | 1    |\n",
    "| actual   | 0 | 330295     | 1895 |\n",
    "|          | 1 | 20492      | 8293 |\n",
    "```\n",
    "    \n",
    "    \n",
    "    \n",
    "- Take into account class imbalance:\n",
    "    - Accuracy: 93.36%\n",
    "    - Precision: .5841\n",
    "    - Recall: .5821\n",
    "    - F-1 Score: .5831\n",
    "    \n",
    "```\n",
    "| Conf Mat |   | prediction |       |\n",
    "|----------|---|------------|-------|\n",
    "|          |   | 0          | 1     |\n",
    "| actual   | 0 | 320261     | 11929 |\n",
    "|          | 1 | 12030      | 16755 |\n",
    "```"
   ]
  },
  {
   "cell_type": "markdown",
   "metadata": {},
   "source": [
    "### Multi-Layer Perceptron\n",
    "\n",
    "- Treat dataset as balanced:\n",
    "    - Train time: 9 min\n",
    "    - Accuracy: 92.03%\n",
    "    - Precision: 0\n",
    "    - Recall: 0\n",
    "    - F-1 Score: 0\n",
    "\n",
    "```\n",
    "| Conf Mat |   | prediction |   |\n",
    "|----------|---|------------|---|\n",
    "|          |   | 0          | 1 |\n",
    "| actual   | 0 | 332190     | 0 |\n",
    "|          | 1 | 28785      | 0 |\n",
    "```"
   ]
  },
  {
   "cell_type": "markdown",
   "metadata": {},
   "source": [
    "### Naive Bayes\n",
    "\n",
    "- Treat dataset as balanced:\n",
    "    - Train time: 15 min\n",
    "    - Accuracy: 89.38%\n",
    "    - Precision: 0.3961\n",
    "    - Recall: 0.6323\n",
    "    - F-1 Score: 0.4871\n",
    "    \n",
    "```\n",
    "| Conf Mat |   | prediction |       |\n",
    "|----------|---|------------|-------|\n",
    "|          |   | 0          | 1     |\n",
    "| actual   | 0 | 304445     | 27745 |\n",
    "|          | 1 | 10584      | 18201 |\n",
    "```\n",
    "    \n",
    "- Take into account class imbalance:\n",
    "    - Accuracy: 88.56%\n",
    "    - Precision: 0.3762\n",
    "    - Recall: 0.6607\n",
    "    - F-1 Score: 0.4794 \n",
    "    \n",
    "```\n",
    "| Conf Mat |   | prediction |       |\n",
    "|----------|---|------------|-------|\n",
    "|          |   | 0          | 1     |\n",
    "| actual   | 0 | 300655     | 31535 |\n",
    "|          | 1 | 9767       | 19018 |\n",
    "```"
   ]
  },
  {
   "cell_type": "markdown",
   "metadata": {},
   "source": [
    "### Random Forest \n",
    "\n",
    "- Treat dataset as balanced:\n",
    "    - Train time: 8 min\n",
    "    - Accuracy: 92.03%\n",
    "    - Precision: 0\n",
    "    - Recall: 0\n",
    "    - F-1 Score: 0\n",
    "    \n",
    "```\n",
    "| Conf Mat |   | prediction |   |\n",
    "|----------|---|------------|---|\n",
    "|          |   | 0          | 1 |\n",
    "| actual   | 0 | 332190     | 0 |\n",
    "|          | 1 | 28785      | 0 |\n",
    "```\n",
    "    \n",
    "- Take into account class imbalance:\n",
    "    - Accuracy: 92.78%\n",
    "    - Precision: 0.5499\n",
    "    - Recall: 0.51905\n",
    "    - F-1 Score: 0.53404\n",
    "\n",
    "```\n",
    "| Conf Mat |   | prediction |       |\n",
    "|----------|---|------------|-------|\n",
    "|          |   | 0          | 1     |\n",
    "| actual   | 0 | 319962     | 12228 |\n",
    "|          | 1 | 13844      | 14941 |\n",
    "```"
   ]
  },
  {
   "cell_type": "markdown",
   "metadata": {},
   "source": [
    "# Competition Placing\n",
    "- Predicted toxicity of test set with each model,submitted results to Kaggle\n",
    "\n",
    "```\n",
    "| Model           | Score   |\n",
    "|-----------------|---------|\n",
    "| SGDC            | 0.63615 |\n",
    "| W-SGDC          | 0.73864 |\n",
    "| Naive Bayes     | 0.73172 |\n",
    "| W-Naive Bayes   | 0.73555 |\n",
    "| Random Forest   | 0.50000 |\n",
    "| W-Random Forest | 0.69865 |\n",
    "```"
   ]
  },
  {
   "cell_type": "markdown",
   "metadata": {},
   "source": [
    "# Place: 2158 out of 2278\n",
    "\n",
    "<img src=\"place.jpg\" alt=\"Drawing\" style=\"width: 1000px;\"/>"
   ]
  },
  {
   "cell_type": "markdown",
   "metadata": {},
   "source": []
  },
  {
   "cell_type": "markdown",
   "metadata": {},
   "source": [
    "## Convolutional Neural Network Using Attention\n",
    "\n",
    "- Takes top 300,000 features\n",
    "- Uses Fast Text and GLOVE embeddings\n",
    "\n",
    "\n",
    "    - Train time: 8 hours\n",
    "    - Accuracy: 94.52%\n",
    "    - Precision: 0.75742\n",
    "    - Recall: 0.46212\n",
    "    - F-1 Score: 57402\n",
    "    \n",
    "```\n",
    "| Conf Mat |   | prediction |       |\n",
    "|----------|---|------------|-------|\n",
    "|          |   | 0          | 1     |\n",
    "| actual   | 0 | 1639180    | 21362 |\n",
    "|          | 1 | 77634      | 66700 |\n",
    "```"
   ]
  },
  {
   "cell_type": "markdown",
   "metadata": {},
   "source": [
    "### GPU usage\n",
    "<img src=\"gpu.png\" alt=\"Drawing\" style=\"width: 500px;\"/>"
   ]
  },
  {
   "cell_type": "markdown",
   "metadata": {},
   "source": []
  },
  {
   "cell_type": "markdown",
   "metadata": {},
   "source": []
  },
  {
   "cell_type": "markdown",
   "metadata": {},
   "source": []
  }
 ],
 "metadata": {
  "kernelspec": {
   "display_name": "Python 3",
   "language": "python",
   "name": "python3"
  },
  "language_info": {
   "codemirror_mode": {
    "name": "ipython",
    "version": 3
   },
   "file_extension": ".py",
   "mimetype": "text/x-python",
   "name": "python",
   "nbconvert_exporter": "python",
   "pygments_lexer": "ipython3",
   "version": "3.6.5"
  }
 },
 "nbformat": 4,
 "nbformat_minor": 2
}
