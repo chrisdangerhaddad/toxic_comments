{
 "cells": [
  {
   "cell_type": "markdown",
   "metadata": {},
   "source": [
    "# Toxic Comments\n",
    "\n",
    "- Chris Haddad, Sanjay Roberts, and Jeff Coady"
   ]
  },
  {
   "cell_type": "markdown",
   "metadata": {},
   "source": [
    "## Dataset\n",
    "\n",
    "- **Kaggle Competition**: Jigsaw Unintended Bias in Toxicity Classification \n",
    "\n",
    "\n",
    "- ~$2$ million public comments from various platforms\n",
    "    - train.csv - 812 mb\n",
    "    - test.csv - 30 mb\n",
    "    \n",
    "    \n",
    "- `comment_text` and `target` toxicity columns\n",
    "\n",
    "    - `target` ranges from $0$ to $1$, if $>= 0.5$, classify as **'toxic'**"
   ]
  },
  {
   "cell_type": "markdown",
   "metadata": {},
   "source": [
    "## Motivation\n",
    "\n",
    "- Build model that recognizes toxicity in comments and minimizes unintended bias with respect to mentions of identities.\n",
    "- Experiment with different `sklearn` classifiers\n",
    "- Work with an imbalanced dataset\n",
    "    - ~10% of comments are classified as toxic "
   ]
  },
  {
   "cell_type": "markdown",
   "metadata": {},
   "source": [
    "# Exploratory Data Analysis"
   ]
  },
  {
   "cell_type": "markdown",
   "metadata": {},
   "source": [
    "## Visualization "
   ]
  },
  {
   "cell_type": "markdown",
   "metadata": {},
   "source": []
  },
  {
   "cell_type": "markdown",
   "metadata": {},
   "source": []
  },
  {
   "cell_type": "markdown",
   "metadata": {},
   "source": []
  },
  {
   "cell_type": "markdown",
   "metadata": {},
   "source": []
  },
  {
   "cell_type": "markdown",
   "metadata": {},
   "source": []
  },
  {
   "cell_type": "markdown",
   "metadata": {},
   "source": []
  },
  {
   "cell_type": "markdown",
   "metadata": {},
   "source": []
  },
  {
   "cell_type": "markdown",
   "metadata": {},
   "source": []
  },
  {
   "cell_type": "markdown",
   "metadata": {},
   "source": []
  },
  {
   "cell_type": "markdown",
   "metadata": {},
   "source": [
    "# Modeling"
   ]
  },
  {
   "cell_type": "markdown",
   "metadata": {},
   "source": [
    "### AWS\n",
    "- EC2 instance with multiple user ssh and Jupyter Notebooks port-forwarding \n",
    "    - Instance type: `r4.16xlarge` - 64 CPU, **488 RAM**\n",
    "    \n",
    "    \n",
    "- Still ran into memory issues!\n",
    "    - To load and process data before modeling: 150G minimum\n",
    "    - Running `clf.fit(X, y)` killed the kernel every time\n",
    "        - Had to `partial_fit` or `batch` data to the classifiers in chunks of 100,000 comments"
   ]
  },
  {
   "cell_type": "markdown",
   "metadata": {},
   "source": [
    "### HTOP\n",
    "![title](htop3.jpg)"
   ]
  },
  {
   "cell_type": "markdown",
   "metadata": {},
   "source": [
    "### Comment Cleaning - NLTK\n",
    "- Lower case words\n",
    "- Remove stop words\n",
    "- Remove punctuation\n",
    "- Tokenize and Lemmatize comments\n",
    "- Word frequency count, keep words greater than 10 occurences\n",
    "    - `dict` of 60,000 words\n",
    "- Create matrix of word frequency and outcome `(0: non-toxic, 1: toxic)` per comment    "
   ]
  },
  {
   "cell_type": "markdown",
   "metadata": {},
   "source": [
    "### Stochastic Gradient Descent Classifier\n",
    "\n",
    "- Treat dataset as balanced:\n",
    "    - Train time:\n",
    "    - Accuracy:\n",
    "    - Precision:\n",
    "    - Recall:\n",
    "    - F-1 Score:\n",
    "    \n",
    "- Take into account class imbalance:\n",
    "    - Train time:\n",
    "    - Accuracy:\n",
    "    - Precision:\n",
    "    - Recall:\n",
    "    - F-1 Score:"
   ]
  },
  {
   "cell_type": "markdown",
   "metadata": {},
   "source": []
  },
  {
   "cell_type": "markdown",
   "metadata": {},
   "source": []
  },
  {
   "cell_type": "markdown",
   "metadata": {},
   "source": [
    "### Multi-Layer Perceptron\n",
    "\n",
    "- Treat dataset as balanced:\n",
    "    - Train time:\n",
    "    - Accuracy:\n",
    "    - Precision:\n",
    "    - Recall:\n",
    "    - F-1 Score:\n",
    "    \n",
    "- Take into account class imbalance:\n",
    "    - Train time:\n",
    "    - Accuracy:\n",
    "    - Precision:\n",
    "    - Recall:\n",
    "    - F-1 Score:"
   ]
  },
  {
   "cell_type": "markdown",
   "metadata": {},
   "source": []
  },
  {
   "cell_type": "markdown",
   "metadata": {},
   "source": []
  },
  {
   "cell_type": "markdown",
   "metadata": {},
   "source": [
    "### Naive Bayes\n",
    "\n",
    "- Treat dataset as balanced:\n",
    "    - Train time:\n",
    "    - Accuracy:\n",
    "    - Precision:\n",
    "    - Recall:\n",
    "    - F-1 Score:\n",
    "    \n",
    "- Take into account class imbalance:\n",
    "    - Train time:\n",
    "    - Accuracy:\n",
    "    - Precision:\n",
    "    - Recall:\n",
    "    - F-1 Score:"
   ]
  },
  {
   "cell_type": "markdown",
   "metadata": {},
   "source": []
  },
  {
   "cell_type": "markdown",
   "metadata": {},
   "source": []
  },
  {
   "cell_type": "markdown",
   "metadata": {},
   "source": [
    "### Random Forest \n",
    "\n",
    "- Treat dataset as balanced:\n",
    "    - Train time:\n",
    "    - Accuracy:\n",
    "    - Precision:\n",
    "    - Recall:\n",
    "    - F-1 Score:\n",
    "    \n",
    "- Take into account class imbalance:\n",
    "    - Train time:\n",
    "    - Accuracy:\n",
    "    - Precision:\n",
    "    - Recall:\n",
    "    - F-1 Score:"
   ]
  },
  {
   "cell_type": "markdown",
   "metadata": {},
   "source": []
  },
  {
   "cell_type": "markdown",
   "metadata": {},
   "source": []
  },
  {
   "cell_type": "markdown",
   "metadata": {},
   "source": [
    "# Competition Placing\n",
    "- With our _______ model submission, we got in the top _________ %"
   ]
  },
  {
   "cell_type": "markdown",
   "metadata": {},
   "source": []
  },
  {
   "cell_type": "markdown",
   "metadata": {},
   "source": []
  }
 ],
 "metadata": {
  "kernelspec": {
   "display_name": "Python 3",
   "language": "python",
   "name": "python3"
  },
  "language_info": {
   "codemirror_mode": {
    "name": "ipython",
    "version": 3
   },
   "file_extension": ".py",
   "mimetype": "text/x-python",
   "name": "python",
   "nbconvert_exporter": "python",
   "pygments_lexer": "ipython3",
   "version": "3.6.5"
  }
 },
 "nbformat": 4,
 "nbformat_minor": 2
}
