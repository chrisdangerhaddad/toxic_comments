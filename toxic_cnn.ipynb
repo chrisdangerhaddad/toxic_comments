{
 "cells": [
  {
   "cell_type": "code",
   "execution_count": 83,
   "metadata": {},
   "outputs": [],
   "source": [
    "import pandas as pd\n",
    "%load_ext autotime"
   ]
  },
  {
   "cell_type": "markdown",
   "metadata": {},
   "source": [
    "# Convolutional Nueral Network with Attention"
   ]
  },
  {
   "cell_type": "code",
   "execution_count": 6,
   "metadata": {
    "scrolled": true
   },
   "outputs": [],
   "source": [
    "train = pd.read_csv('train.csv',engine='python')\n",
    "test = pd.read_csv('test.csv',engine='python')\n",
    "# after processing some of the texts are emply\n",
    "train['comment_text'] = train['comment_text'].fillna('')\n",
    "test['comment_text'] = test['comment_text'].fillna('')\n",
    "sub = pd.read_csv('sample_submission.csv')"
   ]
  },
  {
   "cell_type": "code",
   "execution_count": 9,
   "metadata": {},
   "outputs": [
    {
     "name": "stderr",
     "output_type": "stream",
     "text": [
      "Using TensorFlow backend.\n"
     ]
    }
   ],
   "source": [
    "from keras.preprocessing.text import Tokenizer"
   ]
  },
  {
   "cell_type": "markdown",
   "metadata": {},
   "source": [
    "### Limit to top 300,000 features"
   ]
  },
  {
   "cell_type": "code",
   "execution_count": 10,
   "metadata": {},
   "outputs": [],
   "source": [
    "full_text = list(train['comment_text'].values) + list(test['comment_text'].values)\n",
    "max_features = 300000\n",
    "tk = Tokenizer(lower = True, filters='', num_words=max_features)\n",
    "tk.fit_on_texts(full_text)"
   ]
  },
  {
   "cell_type": "markdown",
   "metadata": {},
   "source": [
    "### Add fast_text and Glove word embeddings"
   ]
  },
  {
   "cell_type": "code",
   "execution_count": 15,
   "metadata": {},
   "outputs": [],
   "source": [
    "embedding_path1 = \"crawl-300d-2M.vec\"\n",
    "embedding_path2 = \"glove.840B.300d.txt\"\n",
    "embed_size = 300"
   ]
  },
  {
   "cell_type": "code",
   "execution_count": 16,
   "metadata": {},
   "outputs": [],
   "source": [
    "import numpy as np"
   ]
  },
  {
   "cell_type": "code",
   "execution_count": 19,
   "metadata": {},
   "outputs": [],
   "source": [
    "from sklearn.model_selection import StratifiedKFold"
   ]
  },
  {
   "cell_type": "code",
   "execution_count": 20,
   "metadata": {},
   "outputs": [],
   "source": [
    "def get_coefs(word,*arr):\n",
    "    return word, np.asarray(arr, dtype='float32')\n",
    "\n",
    "def build_matrix(embedding_path, tokenizer):\n",
    "    embedding_index = dict(get_coefs(*o.strip().split(\" \")) for o in open(embedding_path))\n",
    "\n",
    "    word_index = tk.word_index\n",
    "    nb_words = min(max_features, len(word_index))\n",
    "    embedding_matrix = np.zeros((nb_words + 1, embed_size))\n",
    "    for word, i in word_index.items():\n",
    "        if i >= max_features:\n",
    "            continue\n",
    "        embedding_vector = embedding_index.get(word)\n",
    "        if embedding_vector is not None:\n",
    "            embedding_matrix[i] = embedding_vector\n",
    "    return embedding_matrix\n",
    "\n",
    "# combining embeddings from this kernel: https://www.kaggle.com/tanreinama/simple-lstm-using-identity-parameters-solution\n",
    "embedding_matrix = np.concatenate([build_matrix(embedding_path1, tk), build_matrix(embedding_path2, tk)], axis=-1)\n",
    "\n",
    "y = np.where(train['target'] >= 0.5, True, False) * 1\n",
    "\n",
    "identity_columns = ['male', 'female', 'homosexual_gay_or_lesbian', 'christian', 'jewish', \n",
    "                    'muslim', 'black', 'white', 'psychiatric_or_mental_illness']\n",
    "for col in identity_columns + ['target']:\n",
    "    train[col] = np.where(train[col] >= 0.5, True, False)\n",
    "\n",
    "n_fold = 5\n",
    "\n",
    "folds = StratifiedKFold(n_splits=n_fold, shuffle=True, random_state=11)"
   ]
  },
  {
   "cell_type": "code",
   "execution_count": 21,
   "metadata": {},
   "outputs": [],
   "source": []
  },
  {
   "cell_type": "code",
   "execution_count": 72,
   "metadata": {},
   "outputs": [],
   "source": [
    "from keras import backend as K\n",
    "from keras.preprocessing.sequence import pad_sequences\n",
    "from keras.callbacks import ModelCheckpoint, EarlyStopping\n",
    "from keras import Input\n",
    "from keras.layers import Activation, Dense, Embedding, SpatialDropout1D, Flatten, Dropout, concatenate\n",
    "from keras import initializers, regularizers, constraints, optimizers, layers, Model\n",
    "from keras.engine.topology import Layer\n",
    "from keras.layers.convolutional import Conv1D, MaxPooling1D\n",
    "from keras.optimizers import Adam\n",
    "from sklearn import metrics\n",
    "import time"
   ]
  },
  {
   "cell_type": "code",
   "execution_count": 73,
   "metadata": {},
   "outputs": [],
   "source": [
    "# import keras.layers as L"
   ]
  },
  {
   "cell_type": "code",
   "execution_count": 88,
   "metadata": {},
   "outputs": [
    {
     "name": "stdout",
     "output_type": "stream",
     "text": [
      "time: 6.86 ms\n"
     ]
    }
   ],
   "source": [
    "SUBGROUP_AUC = 'subgroup_auc'\n",
    "BPSN_AUC = 'bpsn_auc'  # stands for background positive, subgroup negative\n",
    "BNSP_AUC = 'bnsp_auc'  # stands for background negative, subgroup positive\n",
    "\n",
    "TOXICITY_COLUMN = 'target'\n",
    "\n",
    "def compute_auc(y_true, y_pred):\n",
    "    try:\n",
    "        return metrics.roc_auc_score(y_true, y_pred)\n",
    "    except ValueError:\n",
    "        return np.nan\n",
    "\n",
    "def compute_subgroup_auc(df, subgroup, label, model_name):\n",
    "    subgroup_examples = df[df[subgroup]]\n",
    "    return compute_auc(subgroup_examples[label], subgroup_examples[model_name])\n",
    "\n",
    "def compute_bpsn_auc(df, subgroup, label, model_name):\n",
    "    \"\"\"Computes the AUC of the within-subgroup negative examples and the background positive examples.\"\"\"\n",
    "    subgroup_negative_examples = df[df[subgroup] & ~df[label]]\n",
    "    non_subgroup_positive_examples = df[~df[subgroup] & df[label]]\n",
    "    examples = subgroup_negative_examples.append(non_subgroup_positive_examples)\n",
    "    return compute_auc(examples[label], examples[model_name])\n",
    "\n",
    "def compute_bnsp_auc(df, subgroup, label, model_name):\n",
    "    \"\"\"Computes the AUC of the within-subgroup positive examples and the background negative examples.\"\"\"\n",
    "    subgroup_positive_examples = df[df[subgroup] & df[label]]\n",
    "    non_subgroup_negative_examples = df[~df[subgroup] & ~df[label]]\n",
    "    examples = subgroup_positive_examples.append(non_subgroup_negative_examples)\n",
    "    return compute_auc(examples[label], examples[model_name])\n",
    "\n",
    "def compute_bias_metrics_for_model(dataset,\n",
    "                                   subgroups,\n",
    "                                   model,\n",
    "                                   label_col,\n",
    "                                   include_asegs=False):\n",
    "    \"\"\"Computes per-subgroup metrics for all subgroups and one model.\"\"\"\n",
    "    records = []\n",
    "    for subgroup in subgroups:\n",
    "        record = {\n",
    "            'subgroup': subgroup,\n",
    "            'subgroup_size': len(dataset[dataset[subgroup]])\n",
    "        }\n",
    "        record[SUBGROUP_AUC] = compute_subgroup_auc(dataset, subgroup, label_col, model)\n",
    "        record[BPSN_AUC] = compute_bpsn_auc(dataset, subgroup, label_col, model)\n",
    "        record[BNSP_AUC] = compute_bnsp_auc(dataset, subgroup, label_col, model)\n",
    "        records.append(record)\n",
    "    return pd.DataFrame(records).sort_values('subgroup_auc', ascending=True)\n",
    "\n",
    "def calculate_overall_auc(df, model_name):\n",
    "    true_labels = df[TOXICITY_COLUMN]\n",
    "    predicted_labels = df[model_name]\n",
    "    return metrics.roc_auc_score(true_labels, predicted_labels)\n",
    "\n",
    "def power_mean(series, p):\n",
    "    total = sum(np.power(series, p))\n",
    "    return np.power(total / len(series), 1 / p)\n",
    "\n",
    "def get_final_metric(bias_df, overall_auc, POWER=-5, OVERALL_MODEL_WEIGHT=0.25):\n",
    "    bias_score = np.average([\n",
    "        power_mean(bias_df[SUBGROUP_AUC], POWER),\n",
    "        power_mean(bias_df[BPSN_AUC], POWER),\n",
    "        power_mean(bias_df[BNSP_AUC], POWER)\n",
    "    ])\n",
    "    return (OVERALL_MODEL_WEIGHT * overall_auc) + ((1 - OVERALL_MODEL_WEIGHT) * bias_score)"
   ]
  },
  {
   "cell_type": "code",
   "execution_count": 89,
   "metadata": {},
   "outputs": [
    {
     "name": "stdout",
     "output_type": "stream",
     "text": [
      "Fold 0 started at Tue May 28 12:18:10 2019\n",
      "Train on 1443899 samples, validate on 360975 samples\n",
      "Epoch 1/3\n",
      " - 1808s - loss: 0.1658 - acc: 0.9412 - val_loss: 0.1566 - val_acc: 0.9439\n",
      "\n",
      "Epoch 00001: val_loss improved from inf to 0.15664, saving model to checkpoint/best_model_fold_0.hdf5\n",
      "Epoch 2/3\n",
      " - 1807s - loss: 0.1549 - acc: 0.9446 - val_loss: 0.1540 - val_acc: 0.9447\n",
      "\n",
      "Epoch 00002: val_loss improved from 0.15664 to 0.15399, saving model to checkpoint/best_model_fold_0.hdf5\n",
      "Epoch 3/3\n",
      " - 1807s - loss: 0.1511 - acc: 0.9456 - val_loss: 0.1541 - val_acc: 0.9446\n",
      "\n",
      "Epoch 00003: val_loss did not improve from 0.15399\n",
      "97320/97320 [==============================] - 48s 496us/step\n",
      "Fold 1 started at Tue May 28 13:52:56 2019\n",
      "Train on 1443899 samples, validate on 360975 samples\n",
      "Epoch 1/3\n",
      " - 1805s - loss: 0.1659 - acc: 0.9413 - val_loss: 0.1555 - val_acc: 0.9442\n",
      "\n",
      "Epoch 00001: val_loss improved from inf to 0.15550, saving model to checkpoint/best_model_fold_1.hdf5\n",
      "Epoch 2/3\n",
      " - 1804s - loss: 0.1552 - acc: 0.9444 - val_loss: 0.1533 - val_acc: 0.9446\n",
      "\n",
      "Epoch 00002: val_loss improved from 0.15550 to 0.15331, saving model to checkpoint/best_model_fold_1.hdf5\n",
      "Epoch 3/3\n",
      " - 1804s - loss: 0.1512 - acc: 0.9456 - val_loss: 0.1525 - val_acc: 0.9452\n",
      "\n",
      "Epoch 00003: val_loss improved from 0.15331 to 0.15246, saving model to checkpoint/best_model_fold_1.hdf5\n",
      "97320/97320 [==============================] - 48s 496us/step\n",
      "Fold 2 started at Tue May 28 15:27:31 2019\n",
      "Train on 1443899 samples, validate on 360975 samples\n",
      "Epoch 1/3\n",
      " - 1806s - loss: 0.1656 - acc: 0.9413 - val_loss: 0.1551 - val_acc: 0.9445\n",
      "\n",
      "Epoch 00001: val_loss improved from inf to 0.15512, saving model to checkpoint/best_model_fold_2.hdf5\n",
      "Epoch 2/3\n",
      " - 1804s - loss: 0.1546 - acc: 0.9445 - val_loss: 0.1539 - val_acc: 0.9450\n",
      "\n",
      "Epoch 00002: val_loss improved from 0.15512 to 0.15391, saving model to checkpoint/best_model_fold_2.hdf5\n",
      "Epoch 3/3\n",
      " - 1802s - loss: 0.1507 - acc: 0.9456 - val_loss: 0.1530 - val_acc: 0.9452\n",
      "\n",
      "Epoch 00003: val_loss improved from 0.15391 to 0.15301, saving model to checkpoint/best_model_fold_2.hdf5\n",
      "97320/97320 [==============================] - 48s 496us/step\n",
      "Fold 3 started at Tue May 28 17:02:16 2019\n",
      "Train on 1443899 samples, validate on 360975 samples\n",
      "Epoch 1/3\n",
      " - 1800s - loss: 0.1653 - acc: 0.9417 - val_loss: 0.1556 - val_acc: 0.9440\n",
      "\n",
      "Epoch 00001: val_loss improved from inf to 0.15560, saving model to checkpoint/best_model_fold_3.hdf5\n",
      "Epoch 2/3\n",
      " - 1799s - loss: 0.1548 - acc: 0.9447 - val_loss: 0.1523 - val_acc: 0.9453\n",
      "\n",
      "Epoch 00002: val_loss improved from 0.15560 to 0.15233, saving model to checkpoint/best_model_fold_3.hdf5\n",
      "Epoch 3/3\n",
      " - 1799s - loss: 0.1511 - acc: 0.9456 - val_loss: 0.1522 - val_acc: 0.9453\n",
      "\n",
      "Epoch 00003: val_loss improved from 0.15233 to 0.15223, saving model to checkpoint/best_model_fold_3.hdf5\n",
      "97320/97320 [==============================] - 48s 496us/step\n",
      "Fold 4 started at Tue May 28 18:36:38 2019\n",
      "Train on 1443900 samples, validate on 360974 samples\n",
      "Epoch 1/3\n",
      " - 1804s - loss: 0.1652 - acc: 0.9415 - val_loss: 0.1550 - val_acc: 0.9445\n",
      "\n",
      "Epoch 00001: val_loss improved from inf to 0.15499, saving model to checkpoint/best_model_fold_4.hdf5\n",
      "Epoch 2/3\n",
      " - 1803s - loss: 0.1548 - acc: 0.9446 - val_loss: 0.1522 - val_acc: 0.9452\n",
      "\n",
      "Epoch 00002: val_loss improved from 0.15499 to 0.15219, saving model to checkpoint/best_model_fold_4.hdf5\n",
      "Epoch 3/3\n",
      " - 1803s - loss: 0.1512 - acc: 0.9455 - val_loss: 0.1513 - val_acc: 0.9453\n",
      "\n",
      "Epoch 00003: val_loss improved from 0.15219 to 0.15127, saving model to checkpoint/best_model_fold_4.hdf5\n",
      "97320/97320 [==============================] - 48s 496us/step\n",
      "CV mean score: 0.8767, std: 0.0022.\n",
      "time: 7h 53min 5s\n"
     ]
    }
   ],
   "source": [
    "# adding attention from this kernel: https://www.kaggle.com/christofhenkel/keras-baseline-lstm-attention-5-fold\n",
    "class Attention(Layer):\n",
    "    def __init__(self, step_dim,\n",
    "                 W_regularizer=None, b_regularizer=None,\n",
    "                 W_constraint=None, b_constraint=None,\n",
    "                 bias=True, **kwargs):\n",
    "        self.supports_masking = True\n",
    "        self.init = initializers.get('glorot_uniform')\n",
    "\n",
    "        self.W_regularizer = regularizers.get(W_regularizer)\n",
    "        self.b_regularizer = regularizers.get(b_regularizer)\n",
    "\n",
    "        self.W_constraint = constraints.get(W_constraint)\n",
    "        self.b_constraint = constraints.get(b_constraint)\n",
    "\n",
    "        self.bias = bias\n",
    "        self.step_dim = step_dim\n",
    "        self.features_dim = 0\n",
    "        super(Attention, self).__init__(**kwargs)\n",
    "\n",
    "    def build(self, input_shape):\n",
    "        assert len(input_shape) == 3\n",
    "\n",
    "        self.W = self.add_weight((input_shape[-1],),\n",
    "                                 initializer=self.init,\n",
    "                                 name='{}_W'.format(self.name),\n",
    "                                 regularizer=self.W_regularizer,\n",
    "                                 constraint=self.W_constraint)\n",
    "        self.features_dim = input_shape[-1]\n",
    "\n",
    "        if self.bias:\n",
    "            self.b = self.add_weight((input_shape[1],),\n",
    "                                     initializer='zero',\n",
    "                                     name='{}_b'.format(self.name),\n",
    "                                     regularizer=self.b_regularizer,\n",
    "                                     constraint=self.b_constraint)\n",
    "        else:\n",
    "            self.b = None\n",
    "\n",
    "        self.built = True\n",
    "\n",
    "    def compute_mask(self, input, input_mask=None):\n",
    "        return None\n",
    "\n",
    "    def call(self, x, mask=None):\n",
    "        features_dim = self.features_dim\n",
    "        step_dim = self.step_dim\n",
    "\n",
    "        eij = K.reshape(K.dot(K.reshape(x, (-1, features_dim)),\n",
    "                        K.reshape(self.W, (features_dim, 1))), (-1, step_dim))\n",
    "\n",
    "        if self.bias:\n",
    "            eij += self.b\n",
    "\n",
    "        eij = K.tanh(eij)\n",
    "\n",
    "        a = K.exp(eij)\n",
    "\n",
    "        if mask is not None:\n",
    "            a *= K.cast(mask, K.floatx())\n",
    "\n",
    "        a /= K.cast(K.sum(a, axis=1, keepdims=True) + K.epsilon(), K.floatx())\n",
    "\n",
    "        a = K.expand_dims(a)\n",
    "        weighted_input = x * a\n",
    "        return K.sum(weighted_input, axis=1)\n",
    "\n",
    "    def compute_output_shape(self, input_shape):\n",
    "        return input_shape[0],  self.features_dim\n",
    "    \n",
    "\n",
    "def build_model(X_train, y_train, X_valid, y_valid, max_len, max_features, embed_size, \n",
    "                embedding_matrix, lr=0.0, lr_d=0.0, spatial_dr=0.0,\n",
    "                dense_units=128, conv_size=128, dr=0.2, patience=3, fold_id=1):\n",
    "    file_path = \"checkpoint/best_model_fold_{}.hdf5\".format(fold_id)\n",
    "    check_point = ModelCheckpoint(file_path, monitor=\"val_loss\", verbose=1,save_best_only=True, mode=\"min\")\n",
    "    early_stop = EarlyStopping(monitor=\"val_loss\", mode=\"min\", patience=patience)\n",
    "    \n",
    "    inp = Input(shape = (max_len,))\n",
    "    x = Embedding(max_features + 1, embed_size * 2, weights=[embedding_matrix], trainable=False)(inp)\n",
    "    x1 = SpatialDropout1D(spatial_dr)(x)\n",
    "    att = Attention(max_len)(x1)\n",
    "    # from benchmark kernel\n",
    "    x = Conv1D(conv_size, 2, activation='relu', padding='same')(x1)\n",
    "    x = MaxPooling1D(5, padding='same')(x)\n",
    "    x = Conv1D(conv_size, 3, activation='relu', padding='same')(x)\n",
    "    x = MaxPooling1D(5, padding='same')(x)\n",
    "    x = Flatten()(x)\n",
    "    x = concatenate([x, att])\n",
    "    \n",
    "    x = Dropout(dr)(Dense(dense_units, activation='relu') (x))\n",
    "    x = Dense(1, activation=\"sigmoid\")(x)\n",
    "    \n",
    "    model = Model(inputs=inp, outputs=x)\n",
    "    model.compile(loss=\"binary_crossentropy\", optimizer=Adam(lr=lr, decay=lr_d), metrics=[\"accuracy\"])\n",
    "    model.fit(X_train, y_train, batch_size=128, epochs=3, validation_data=(X_valid, y_valid), \n",
    "                        verbose=2, callbacks=[early_stop, check_point])\n",
    "    return model\n",
    "\n",
    "# Training fuction\n",
    "\n",
    "def train_model(X, X_test, y, tokenizer, max_len):\n",
    "    \n",
    "    oof = np.zeros((len(X), 1))\n",
    "    prediction = np.zeros((len(X_test), 1))\n",
    "    test_tokenized = tokenizer.t\n",
    "    scores = []exts_to_sequences(test['comment_text'])\n",
    "    X_test = pad_sequences(test_tokenized, maxlen = max_len)\n",
    "    for fold_n, (train_index, valid_index) in enumerate(folds.split(X, y)):\n",
    "        print('Fold', fold_n, 'started at', time.ctime())\n",
    "        X_train, X_valid = X.iloc[train_index], X.iloc[valid_index]\n",
    "        y_train, y_valid = y.iloc[train_index], y.iloc[valid_index]\n",
    "        valid_df = X_valid.copy()    \n",
    "\n",
    "        train_tokenized = tokenizer.texts_to_sequences(X_train['comment_text'])\n",
    "        valid_tokenized = tokenizer.texts_to_sequences(X_valid['comment_text'])\n",
    "\n",
    "        X_train = pad_sequences(train_tokenized, maxlen = max_len)\n",
    "        X_valid = pad_sequences(valid_tokenized, maxlen = max_len)\n",
    "        \n",
    "        model = build_model(X_train, y_train, X_valid, y_valid, max_len, max_features, embed_size, embedding_matrix,\n",
    "                            lr = 1e-3, lr_d = 0, spatial_dr = 0.1, dense_units=128, conv_size=128, \n",
    "                            dr=0.1, patience=3, fold_id=fold_n)\n",
    "        \n",
    "        pred_valid = model.predict(X_valid)\n",
    "        oof[valid_index] = pred_valid\n",
    "        valid_df[oof_name] = pred_valid\n",
    "        \n",
    "        bias_metrics_df = compute_bias_metrics_for_model(valid_df, identity_columns, oof_name, 'target')\n",
    "        scores.append(get_final_metric(bias_metrics_df, calculate_overall_auc(valid_df, oof_name)))\n",
    "        \n",
    "        prediction += model.predict(X_test, batch_size = 1024, verbose = 1)\n",
    "    \n",
    "    prediction /= n_fold\n",
    "    \n",
    "    # print('CV mean score: {0:.4f}, std: {1:.4f}.'.format(np.mean(scores), np.std(scores)))\n",
    "    return oof, prediction, scores\n",
    "\n",
    "#Train and predict\n",
    "\n",
    "oof_name = 'predicted_target'\n",
    "max_len = 250\n",
    "oof, prediction, scores = train_model(X=train, X_test=test, y=train['target'], tokenizer=tk, max_len=max_len)\n",
    "print('CV mean score: {0:.4f}, std: {1:.4f}.'.format(np.mean(scores), np.std(scores)))\n",
    "\n"
   ]
  },
  {
   "cell_type": "markdown",
   "metadata": {},
   "source": [
    "## Using kaggle metric score"
   ]
  },
  {
   "cell_type": "code",
   "execution_count": 90,
   "metadata": {},
   "outputs": [
    {
     "data": {
      "text/plain": [
       "[0.8780763861509111,\n",
       " 0.8782600987367287,\n",
       " 0.8763849165201163,\n",
       " 0.8725172735339072,\n",
       " 0.8784967378807498]"
      ]
     },
     "execution_count": 90,
     "metadata": {},
     "output_type": "execute_result"
    },
    {
     "name": "stdout",
     "output_type": "stream",
     "text": [
      "time: 63 ms\n"
     ]
    }
   ],
   "source": [
    "scores"
   ]
  },
  {
   "cell_type": "code",
   "execution_count": 142,
   "metadata": {},
   "outputs": [
    {
     "name": "stdout",
     "output_type": "stream",
     "text": [
      "time: 2.13 ms\n"
     ]
    }
   ],
   "source": [
    "from sklearn.metrics import f1_score, confusion_matrix, accuracy_score, roc_auc_score, precision_score, recall_score\n",
    "import matplotlib.pyplot as plt\n",
    "import seaborn as sns\n",
    "%matplotlib inline "
   ]
  },
  {
   "cell_type": "code",
   "execution_count": 135,
   "metadata": {},
   "outputs": [
    {
     "name": "stdout",
     "output_type": "stream",
     "text": [
      "time: 395 ms\n"
     ]
    }
   ],
   "source": [
    "x = train.copy()\n",
    "x[\"pred_maybe\"] = oof"
   ]
  },
  {
   "cell_type": "code",
   "execution_count": 136,
   "metadata": {},
   "outputs": [
    {
     "name": "stdout",
     "output_type": "stream",
     "text": [
      "time: 701 ms\n"
     ]
    }
   ],
   "source": [
    "x.loc[x.pred_maybe > 0.5, \"target_maybe\"] = True\n",
    "x.target_maybe.fillna(False, inplace=True)"
   ]
  },
  {
   "cell_type": "code",
   "execution_count": 138,
   "metadata": {},
   "outputs": [
    {
     "data": {
      "text/plain": [
       "0.5740202068882424"
      ]
     },
     "execution_count": 138,
     "metadata": {},
     "output_type": "execute_result"
    },
    {
     "name": "stdout",
     "output_type": "stream",
     "text": [
      "time: 316 ms\n"
     ]
    }
   ],
   "source": [
    "f1_score(x[\"target\"],x[\"target_maybe\"])"
   ]
  },
  {
   "cell_type": "code",
   "execution_count": 139,
   "metadata": {},
   "outputs": [
    {
     "data": {
      "image/png": "[encoded data removed]",
      "text/plain": [
       "<Figure size 432x288 with 2 Axes>"
      ]
     },
     "metadata": {
      "needs_background": "light"
     },
     "output_type": "display_data"
    },
    {
     "name": "stdout",
     "output_type": "stream",
     "text": [
      "time: 672 ms\n"
     ]
    }
   ],
   "source": [
    "cm = confusion_matrix(x[\"target\"],x[\"target_maybe\"])\n",
    "ax= plt.subplot()\n",
    "sns.heatmap(cm, annot=True, ax = ax, fmt='g'); #annot=True to annotate cells\n",
    "\n",
    "# labels, title and ticks\n",
    "ax.set_xlabel('Predicted labels')\n",
    "ax.set_ylabel('True labels') \n",
    "ax.set_title('Confusion Matrix') \n",
    "ax.xaxis.set_ticklabels(['non-toxic', 'toxic'])\n",
    "ax.yaxis.set_ticklabels(['non-toxic', 'toxic'])\n",
    "plt.show()"
   ]
  },
  {
   "cell_type": "code",
   "execution_count": 140,
   "metadata": {},
   "outputs": [
    {
     "data": {
      "text/plain": [
       "0.9451507418246371"
      ]
     },
     "execution_count": 140,
     "metadata": {},
     "output_type": "execute_result"
    },
    {
     "name": "stdout",
     "output_type": "stream",
     "text": [
      "time: 78.5 ms\n"
     ]
    }
   ],
   "source": [
    "accuracy_score(x[\"target\"],x[\"target_maybe\"])"
   ]
  },
  {
   "cell_type": "code",
   "execution_count": 143,
   "metadata": {},
   "outputs": [
    {
     "data": {
      "text/plain": [
       "0.7574209079966387"
      ]
     },
     "execution_count": 143,
     "metadata": {},
     "output_type": "execute_result"
    },
    {
     "name": "stdout",
     "output_type": "stream",
     "text": [
      "time: 308 ms\n"
     ]
    }
   ],
   "source": [
    "precision_score(x[\"target\"],x[\"target_maybe\"])"
   ]
  },
  {
   "cell_type": "code",
   "execution_count": 145,
   "metadata": {},
   "outputs": [
    {
     "data": {
      "text/plain": [
       "0.4621225768010309"
      ]
     },
     "execution_count": 145,
     "metadata": {},
     "output_type": "execute_result"
    },
    {
     "name": "stdout",
     "output_type": "stream",
     "text": [
      "time: 309 ms\n"
     ]
    }
   ],
   "source": [
    "recall_score(x[\"target\"],x[\"target_maybe\"])"
   ]
  },
  {
   "cell_type": "code",
   "execution_count": 141,
   "metadata": {},
   "outputs": [
    {
     "data": {
      "text/plain": [
       "0.724629043468144"
      ]
     },
     "execution_count": 141,
     "metadata": {},
     "output_type": "execute_result"
    },
    {
     "name": "stdout",
     "output_type": "stream",
     "text": [
      "time: 264 ms\n"
     ]
    }
   ],
   "source": [
    "roc_auc_score(x[\"target\"],x[\"target_maybe\"])"
   ]
  },
  {
   "cell_type": "code",
   "execution_count": null,
   "metadata": {},
   "outputs": [],
   "source": []
  }
 ],
 "metadata": {
  "kernelspec": {
   "display_name": "Python 3",
   "language": "python",
   "name": "python3"
  },
  "language_info": {
   "codemirror_mode": {
    "name": "ipython",
    "version": 3
   },
   "file_extension": ".py",
   "mimetype": "text/x-python",
   "name": "python",
   "nbconvert_exporter": "python",
   "pygments_lexer": "ipython3",
   "version": "3.6.5"
  }
 },
 "nbformat": 4,
 "nbformat_minor": 2
}
